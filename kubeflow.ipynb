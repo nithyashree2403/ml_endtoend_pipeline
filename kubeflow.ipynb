{
 "cells": [
  {
   "cell_type": "code",
   "execution_count": 1,
   "id": "2bd22a5a",
   "metadata": {},
   "outputs": [],
   "source": [
    "# !pip install kfp==1.8.18"
   ]
  },
  {
   "cell_type": "code",
   "execution_count": 2,
   "id": "187a8cc3",
   "metadata": {},
   "outputs": [],
   "source": [
    "# !pip install pandas==1.2.4\n",
    "# !pip install numpy==1.21.0\n",
    "# !pip install scikit-learn==0.24.2"
   ]
  },
  {
   "cell_type": "code",
   "execution_count": 1,
   "id": "c3803669-3d38-4d1f-8aea-00fcc3cec237",
   "metadata": {},
   "outputs": [],
   "source": [
    "import kfp\n",
    "import kfp.components as comp\n",
    "import requests\n",
    "import kfp.dsl as dsl\n",
    "import pandas as pd\n",
    "import numpy as np\n",
    "from sklearn.model_selection import train_test_split \n",
    "import pickle"
   ]
  },
  {
   "cell_type": "code",
   "execution_count": null,
   "id": "0b324726-56f5-4c6a-8d46-9c9ce8077ef6",
   "metadata": {},
   "outputs": [],
   "source": [
    "\n"
   ]
  },
  {
   "cell_type": "code",
   "execution_count": 2,
   "id": "06ea592c-4bd8-482e-9ce9-c54cb7ad6a43",
   "metadata": {},
   "outputs": [],
   "source": [
    "def prepare_data():\n",
    "    import ssl\n",
    "    import pandas as pd\n",
    "\n",
    "    ssl._create_default_https_context = ssl._create_unverified_context\n",
    "    df = pd.read_csv(\"https://raw.githubusercontent.com/TripathiAshutosh/dataset/main/iris.csv\")\n",
    "\n",
    "    df = df.dropna()\n",
    "    df.to_csv(f'data/final_df.csv', index=False)\n",
    "    print(\"\\n ---- data csv is saved to PV location /data/final_df.csv ----\")\n",
    "#data =prepare_data()\n"
   ]
  },
  {
   "cell_type": "code",
   "execution_count": 3,
   "id": "9f92b8f5-086f-46fc-9c5d-d0685bed326a",
   "metadata": {},
   "outputs": [],
   "source": [
    "# import pandas as pd\n",
    "# import numpy as np\n",
    "# from sklearn.model_selection import train_test_split"
   ]
  },
  {
   "cell_type": "code",
   "execution_count": 4,
   "id": "081ea2bc-ba7e-4f9d-8ded-0c2a6f26b773",
   "metadata": {},
   "outputs": [],
   "source": [
    "def train_test_split():\n",
    "    import pandas as pd\n",
    "    import numpy as np\n",
    "    from sklearn.model_selection import train_test_split\n",
    "    print(\"---- Inside train_test_split component ----\")\n",
    "    final_data = pd.read_csv(f'data/final_df.csv')\n",
    "    target_column = 'class'\n",
    "    X = final_data.loc[:, final_data.columns != target_column]\n",
    "    y = final_data.loc[:, final_data.columns == target_column]\n",
    "    \n",
    "    X_train, X_test, y_train, y_test = train_test_split(X, y, test_size=0.3,stratify = y, random_state=47)\n",
    "    \n",
    "    np.save(f'data/X_train.npy', X_train)\n",
    "    np.save(f'data/X_test.npy', X_test)\n",
    "    np.save(f'data/y_train.npy', y_train)\n",
    "    np.save(f'data/y_test.npy', y_test)\n",
    "    \n",
    "    print(\"\\n---- X_train ----\")\n",
    "    print(\"\\n\")\n",
    "    print(X_train)\n",
    "    \n",
    "    print(\"\\n---- X_test ----\")\n",
    "    print(\"\\n\")\n",
    "    print(X_test)\n",
    "    \n",
    "    print(\"\\n---- y_train ----\")\n",
    "    print(\"\\n\")\n",
    "    print(y_train)\n",
    "    \n",
    "    print(\"\\n---- y_test ----\")\n",
    "    print(\"\\n\")\n",
    "    print(y_test)"
   ]
  },
  {
   "cell_type": "code",
   "execution_count": 5,
   "id": "dd336fe7-4bd9-4e08-b8b5-3de4ddd05d10",
   "metadata": {},
   "outputs": [],
   "source": [
    "def training_basic_classifier():\n",
    "    import pandas as pd\n",
    "    import numpy as np\n",
    "    from sklearn.linear_model import LogisticRegression\n",
    "    \n",
    "    print(\"---- Inside training_basic_classifier component ----\")\n",
    "    \n",
    "    X_train = np.load(f'data/X_train.npy',allow_pickle=True)\n",
    "    y_train = np.load(f'data/y_train.npy',allow_pickle=True)\n",
    "    \n",
    "    classifier = LogisticRegression(max_iter=500)\n",
    "    classifier.fit(X_train,y_train)\n",
    "    import pickle\n",
    "    with open(f'data/model.pkl', 'wb') as f:\n",
    "        pickle.dump(classifier, f)\n",
    "    \n",
    "    print(\"\\n logistic regression classifier is trained on iris data and saved to PV location /data/model.pkl ----\")"
   ]
  },
  {
   "cell_type": "code",
   "execution_count": 6,
   "id": "d8476404-1f19-463d-befc-167f106b92af",
   "metadata": {},
   "outputs": [],
   "source": [
    "def predict_on_test_data():\n",
    "    import pandas as pd\n",
    "    import numpy as np\n",
    "    import pickle\n",
    "    print(\"---- Inside predict_on_test_data component ----\")\n",
    "    with open(f'data/model.pkl','rb') as f:\n",
    "        logistic_reg_model = pickle.load(f)\n",
    "    X_test = np.load(f'data/X_test.npy',allow_pickle=True)\n",
    "    y_pred = logistic_reg_model.predict(X_test)\n",
    "    np.save(f'data/y_pred.npy', y_pred)\n",
    "    \n",
    "    print(\"\\n---- Predicted classes ----\")\n",
    "    print(\"\\n\")\n",
    "    print(y_pred)\n",
    "    "
   ]
  },
  {
   "cell_type": "code",
   "execution_count": 7,
   "id": "8e7e6c74-b05b-4c0b-9e0a-9e4427581835",
   "metadata": {},
   "outputs": [],
   "source": [
    "def predict_prob_on_test_data():\n",
    "    import pandas as pd\n",
    "    import numpy as np\n",
    "    import pickle\n",
    "    print(\"---- Inside predict_prob_on_test_data component ----\")\n",
    "    with open(f'data/model.pkl','rb') as f:\n",
    "        logistic_reg_model = pickle.load(f)\n",
    "    X_test = np.load(f'data/X_test.npy',allow_pickle=True)\n",
    "    y_pred_prob = logistic_reg_model.predict_proba(X_test)\n",
    "    np.save(f'data/y_pred_prob.npy', y_pred_prob)\n",
    "    \n",
    "    print(\"\\n---- Predicted Probabilities ----\")\n",
    "    print(\"\\n\")\n",
    "    print(y_pred_prob)"
   ]
  },
  {
   "cell_type": "code",
   "execution_count": 8,
   "id": "43b101af-c698-4f9a-8420-29ca154eff15",
   "metadata": {},
   "outputs": [],
   "source": [
    "def get_metrics():\n",
    "    import pandas as pd\n",
    "    import numpy as np\n",
    "    from sklearn.metrics import accuracy_score,precision_score,recall_score,log_loss\n",
    "    from sklearn import metrics\n",
    "    print(\"---- Inside get_metrics component ----\")\n",
    "    y_test = np.load(f'data/y_test.npy',allow_pickle=True)\n",
    "    y_pred = np.load(f'data/y_pred.npy',allow_pickle=True)\n",
    "    y_pred_prob = np.load(f'data/y_pred_prob.npy',allow_pickle=True)\n",
    "    acc = accuracy_score(y_test, y_pred)\n",
    "    prec = precision_score(y_test, y_pred,average='micro')\n",
    "    recall = recall_score(y_test, y_pred,average='micro')\n",
    "    entropy = log_loss(y_test, y_pred_prob)\n",
    "    \n",
    "    y_test = np.load(f'data/y_test.npy',allow_pickle=True)\n",
    "    y_pred = np.load(f'data/y_pred.npy',allow_pickle=True)\n",
    "    print(metrics.classification_report(y_test, y_pred))\n",
    "    \n",
    "    print(\"\\n Model Metrics:\", {'accuracy': round(acc, 2), 'precision': round(prec, 2), 'recall': round(recall, 2), 'entropy': round(entropy, 2)})"
   ]
  },
  {
   "cell_type": "code",
   "execution_count": 9,
   "id": "54c0deae-2126-4f8d-b0b1-829c64a9cff5",
   "metadata": {},
   "outputs": [],
   "source": [
    "create_step_prepare_data = kfp.components.create_component_from_func(\n",
    "    func=prepare_data,\n",
    "    base_image='python:3.7',\n",
    "    packages_to_install=['pandas==1.2.4','numpy==1.21.0']\n",
    ")"
   ]
  },
  {
   "cell_type": "code",
   "execution_count": 10,
   "id": "2df0a3fc-9abd-4473-91f6-d88bfc37988e",
   "metadata": {},
   "outputs": [],
   "source": [
    "create_step_train_test_split = kfp.components.create_component_from_func(\n",
    "    func=train_test_split,\n",
    "    base_image='python:3.7',\n",
    "    packages_to_install=['pandas==1.2.4','numpy==1.21.0','scikit-learn==0.24.2']\n",
    ")"
   ]
  },
  {
   "cell_type": "code",
   "execution_count": 11,
   "id": "b3806cc8-0ed3-4b1e-aba4-9d7ad1ed5c70",
   "metadata": {},
   "outputs": [],
   "source": [
    "create_step_training_basic_classifier = kfp.components.create_component_from_func(\n",
    "    func=training_basic_classifier,\n",
    "    base_image='python:3.7',\n",
    "    packages_to_install=['pandas==1.2.4','numpy==1.21.0','scikit-learn==0.24.2']\n",
    ")"
   ]
  },
  {
   "cell_type": "code",
   "execution_count": 12,
   "id": "6064adf9-84a9-4b2a-92dd-4ec1e72d90c7",
   "metadata": {},
   "outputs": [
    {
     "name": "stdout",
     "output_type": "stream",
     "text": [
      "Python 3.7.17\r\n"
     ]
    }
   ],
   "source": [
    "!python3 --version"
   ]
  },
  {
   "cell_type": "code",
   "execution_count": 13,
   "id": "b3f54f1a-c8fa-4dce-8704-fd6b20b2e28e",
   "metadata": {},
   "outputs": [],
   "source": [
    "create_step_predict_on_test_data = kfp.components.create_component_from_func(\n",
    "    func=predict_on_test_data,\n",
    "    base_image='python:3.7',\n",
    "    packages_to_install=['pandas==1.2.4','numpy==1.21.0','scikit-learn==0.24.2']\n",
    ")"
   ]
  },
  {
   "cell_type": "code",
   "execution_count": 14,
   "id": "25f96c4d-c051-4dd2-8130-a730d248df98",
   "metadata": {},
   "outputs": [],
   "source": [
    "create_step_predict_prob_on_test_data = kfp.components.create_component_from_func(\n",
    "    func=predict_prob_on_test_data,\n",
    "    base_image='python:3.7',\n",
    "    packages_to_install=['pandas==1.2.4','numpy==1.21.0','scikit-learn==0.24.2']\n",
    ")"
   ]
  },
  {
   "cell_type": "code",
   "execution_count": 15,
   "id": "032658b0-e1ea-4c42-acdc-129e3e4ce349",
   "metadata": {},
   "outputs": [],
   "source": [
    "create_step_get_metrics = kfp.components.create_component_from_func(\n",
    "    func=get_metrics,\n",
    "    base_image='python:3.7',\n",
    "    packages_to_install=['pandas==1.2.4','numpy==1.21.0','scikit-learn==0.24.2']\n",
    ")"
   ]
  },
  {
   "cell_type": "code",
   "execution_count": 16,
   "id": "10490e3b-9c78-4833-86a8-ad477f392b58",
   "metadata": {},
   "outputs": [],
   "source": [
    "\n",
    "# Define the pipeline\n",
    "@dsl.pipeline(\n",
    "   name='IRIS classifier Kubeflow Demo Pipeline',\n",
    "   description='A sample pipeline that performs IRIS classifier task'\n",
    ")\n",
    "# Define parameters to be fed into pipeline\n",
    "def iris_classifier_pipeline(data_path: str):\n",
    "    vop = dsl.VolumeOp(\n",
    "    name=\"t-vol\",\n",
    "    resource_name=\"t-vol\", \n",
    "    size=\"1Gi\", \n",
    "    modes=dsl.VOLUME_MODE_RWO)\n",
    "    \n",
    "    prepare_data_task = create_step_prepare_data().add_pvolumes({data_path: vop.volume})\n",
    "    train_test_split = create_step_train_test_split().add_pvolumes({data_path: vop.volume}).after(prepare_data_task)\n",
    "    classifier_training = create_step_training_basic_classifier().add_pvolumes({data_path: vop.volume}).after(train_test_split)\n",
    "    log_predicted_class = create_step_predict_on_test_data().add_pvolumes({data_path: vop.volume}).after(classifier_training)\n",
    "    log_predicted_probabilities = create_step_predict_prob_on_test_data().add_pvolumes({data_path: vop.volume}).after(log_predicted_class)\n",
    "    log_metrics_task = create_step_get_metrics().add_pvolumes({data_path: vop.volume}).after(log_predicted_probabilities)\n",
    "\n",
    "    \n",
    "    prepare_data_task.execution_options.caching_strategy.max_cache_staleness = \"P0D\"\n",
    "    train_test_split.execution_options.caching_strategy.max_cache_staleness = \"P0D\"\n",
    "    classifier_training.execution_options.caching_strategy.max_cache_staleness = \"P0D\"\n",
    "    log_predicted_class.execution_options.caching_strategy.max_cache_staleness = \"P0D\"\n",
    "    log_predicted_probabilities.execution_options.caching_strategy.max_cache_staleness = \"P0D\"\n",
    "    log_metrics_task.execution_options.caching_strategy.max_cache_staleness = \"P0D\"\n",
    "    \n",
    "    \n",
    "    "
   ]
  },
  {
   "cell_type": "code",
   "execution_count": 17,
   "id": "a5036801-028c-4436-93a5-c0789b2305fc",
   "metadata": {},
   "outputs": [],
   "source": [
    "\n",
    "kfp.compiler.Compiler().compile(\n",
    "    pipeline_func=iris_classifier_pipeline,\n",
    "    package_path='IRIS_Classifier_pipeline2.yaml')\n"
   ]
  },
  {
   "cell_type": "code",
   "execution_count": 18,
   "id": "0fbf6e00-9360-456b-8b41-5fb23a56b2d1",
   "metadata": {},
   "outputs": [],
   "source": [
    "client = kfp.Client()\n",
    "#session_cookie = \"MTY2MDY0Mjg0OXxOd3dBTkRSVE5FeElTMEZDVDFVeU5EZE1SMHhUVHpRMU5FcFpNMWRNVWpaTFVrOHlXRFJOVlRReVVFNUxOazFZVEVWQ05FUkZTRUU9fM7IcyOyK49OM0dMDjRJR85gqDksj-YOOLsagNs-_-KR\"\n",
    "# HOST = \"http://localhost:8080/\"\n",
    "# namespace = \"kubeflow\"\n",
    "# client = kfp.Client(\n",
    "#     host=f\"{HOST}/pipeline\",\n",
    "#     #cookies=f\"authservice_session={session_cookie}\",\n",
    "#     namespace=namespace,\n",
    "# )"
   ]
  },
  {
   "cell_type": "code",
   "execution_count": 19,
   "id": "07cd3ec9-19d6-4d2d-9160-11e4df6e34b9",
   "metadata": {},
   "outputs": [
    {
     "name": "stdout",
     "output_type": "stream",
     "text": [
      "2024-08-01\n"
     ]
    },
    {
     "data": {
      "text/html": [
       "<a href=\"/pipeline/#/experiments/details/57f89925-c19d-4a67-9f58-fd822b488cee\" target=\"_blank\" >Experiment details</a>."
      ],
      "text/plain": [
       "<IPython.core.display.HTML object>"
      ]
     },
     "metadata": {},
     "output_type": "display_data"
    },
    {
     "data": {
      "text/html": [
       "<a href=\"/pipeline/#/runs/details/2f4d2ef8-ef2e-4de0-8c3b-f3b2cf96d6e8\" target=\"_blank\" >Run details</a>."
      ],
      "text/plain": [
       "<IPython.core.display.HTML object>"
      ]
     },
     "metadata": {},
     "output_type": "display_data"
    }
   ],
   "source": [
    "DATA_PATH = '/data'\n",
    "\n",
    "import datetime\n",
    "print(datetime.datetime.now().date())\n",
    "\n",
    "\n",
    "pipeline_func = iris_classifier_pipeline\n",
    "experiment_name = 'iris_classifier_exper' +\"_\"+ str(datetime.datetime.now().date())\n",
    "run_name = pipeline_func.__name__ + ' run'\n",
    "namespace = \"kubeflow\"\n",
    "\n",
    "arguments = {\"data_path\":DATA_PATH}\n",
    "\n",
    "kfp.compiler.Compiler().compile(pipeline_func,  \n",
    "  '{}.zip'.format(experiment_name))\n",
    "\n",
    "run_result = client.create_run_from_pipeline_func(pipeline_func, \n",
    "                                                  experiment_name=experiment_name, \n",
    "                                                  run_name=run_name, \n",
    "                                                  arguments=arguments)\n",
    "\n",
    "# from kubernetes import client as k8s_client\n",
    "# pipeline_conf = kfp.dsl.PipelineConf()\n",
    "# pipeline_conf.set_image_pull_secrets([k8s_client.V1ObjectReference(namespace='kubeflow', \n",
    "#                                                                                  name=\"secret\")])\n",
    "# pipeline_conf.set_image_pull_policy(\"IfNotPresent\")\n",
    "    \n",
    "# Compile pipeline to generate compressed YAML definition of the pipeline.\n",
    "# kfp.compiler.Compiler().compile(pipeline_func,  \n",
    "#   '{}.zip'.format(experiment_name))\n",
    "\n",
    "# Submit pipeline directly from pipeline function\n",
    "# run_result = client.create_run_from_pipeline_func(pipeline_func, \n",
    "#                                                   experiment_name=experiment_name, \n",
    "#                                                   run_name=run_name, \n",
    "#                                                   arguments=arguments,\n",
    "#                                                   namespace = namespace,\n",
    "#                                                   pipeline_conf=pipeline_conf)\n",
    "\n",
    "\n",
    "\n"
   ]
  },
  {
   "cell_type": "code",
   "execution_count": null,
   "id": "eaac9a97",
   "metadata": {},
   "outputs": [],
   "source": []
  },
  {
   "cell_type": "code",
   "execution_count": null,
   "id": "2df1b0f8",
   "metadata": {},
   "outputs": [],
   "source": []
  }
 ],
 "metadata": {
  "kernelspec": {
   "display_name": "Python 3 (ipykernel)",
   "language": "python",
   "name": "python3"
  },
  "language_info": {
   "codemirror_mode": {
    "name": "ipython",
    "version": 3
   },
   "file_extension": ".py",
   "mimetype": "text/x-python",
   "name": "python",
   "nbconvert_exporter": "python",
   "pygments_lexer": "ipython3",
   "version": "3.7.17"
  }
 },
 "nbformat": 4,
 "nbformat_minor": 5
}
